{
  "nbformat": 4,
  "nbformat_minor": 0,
  "metadata": {
    "colab": {
      "provenance": []
    },
    "kernelspec": {
      "name": "python3",
      "display_name": "Python 3"
    },
    "language_info": {
      "name": "python"
    }
  },
  "cells": [
    {
      "cell_type": "code",
      "execution_count": null,
      "metadata": {
        "colab": {
          "base_uri": "https://localhost:8080/"
        },
        "id": "fa8jw6GBqSx1",
        "outputId": "342a2161-70d4-4b7e-f817-1ca052d70fdf"
      },
      "outputs": [
        {
          "output_type": "stream",
          "name": "stdout",
          "text": [
            "📋 Accuracy Before PCA:\n",
            "Logistic Regression: 0.9016\n",
            "SVM: 0.8525\n",
            "Random Forest: 0.8361\n",
            "\n",
            "📉 Accuracy After PCA (n_components=5):\n",
            "Logistic Regression: 0.8689\n",
            "SVM: 0.8689\n",
            "Random Forest: 0.8852\n"
          ]
        }
      ],
      "source": [
        "import pandas as pd\n",
        "\n",
        "df = pd.read_csv(\"heart.csv\")\n",
        "\n",
        "# Step 3: Split Features and Target\n",
        "X = df.drop(\"target\", axis=1)\n",
        "y = df[\"target\"]\n",
        "\n",
        "# Step 4: Preprocessing\n",
        "from sklearn.model_selection import train_test_split\n",
        "from sklearn.preprocessing import StandardScaler, OneHotEncoder\n",
        "from sklearn.compose import ColumnTransformer\n",
        "from sklearn.pipeline import Pipeline\n",
        "\n",
        "categorical_features = [\"cp\", \"thal\", \"slope\"]\n",
        "numerical_features = [col for col in X.columns if col not in categorical_features]\n",
        "\n",
        "preprocessor = ColumnTransformer(transformers=[\n",
        "    (\"num\", StandardScaler(), numerical_features),\n",
        "    (\"cat\", OneHotEncoder(), categorical_features)\n",
        "])\n",
        "\n",
        "# Step 5: Train/Test Split\n",
        "X_train, X_test, y_train, y_test = train_test_split(X, y, test_size=0.2, random_state=42)\n",
        "\n",
        "# Step 6: Models\n",
        "from sklearn.linear_model import LogisticRegression\n",
        "from sklearn.svm import SVC\n",
        "from sklearn.ensemble import RandomForestClassifier\n",
        "from sklearn.metrics import accuracy_score\n",
        "\n",
        "models = {\n",
        "    \"Logistic Regression\": LogisticRegression(max_iter=1000),\n",
        "    \"SVM\": SVC(),\n",
        "    \"Random Forest\": RandomForestClassifier()\n",
        "}\n",
        "\n",
        "# Step 7: Train and Evaluate Models (Before PCA)\n",
        "print(\"📋 Accuracy Before PCA:\")\n",
        "results = {}\n",
        "for name, model in models.items():\n",
        "    pipeline = Pipeline(steps=[\n",
        "        (\"preprocessor\", preprocessor),\n",
        "        (\"classifier\", model)\n",
        "    ])\n",
        "    pipeline.fit(X_train, y_train)\n",
        "    y_pred = pipeline.predict(X_test)\n",
        "    acc = accuracy_score(y_test, y_pred)\n",
        "    results[name] = acc\n",
        "    print(f\"{name}: {acc:.4f}\")\n",
        "\n",
        "from sklearn.decomposition import PCA\n",
        "\n",
        "print(\"\\n📉 Accuracy After PCA (n_components=5):\")\n",
        "pca_results = {}\n",
        "\n",
        "for name, model in models.items():\n",
        "    pipeline_pca = Pipeline(steps=[\n",
        "        (\"preprocessor\", preprocessor),\n",
        "        (\"pca\", PCA(n_components=5)),\n",
        "        (\"classifier\", model)\n",
        "    ])\n",
        "    pipeline_pca.fit(X_train, y_train)\n",
        "    y_pred_pca = pipeline_pca.predict(X_test)\n",
        "    acc_pca = accuracy_score(y_test, y_pred_pca)\n",
        "    pca_results[name] = acc_pca\n",
        "    print(f\"{name}: {acc_pca:.4f}\")\n"
      ]
    },
    {
      "cell_type": "code",
      "source": [],
      "metadata": {
        "id": "JbYduhu2s-F4"
      },
      "execution_count": null,
      "outputs": []
    }
  ]
}